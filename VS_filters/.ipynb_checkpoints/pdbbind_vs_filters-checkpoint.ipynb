{
 "cells": [
  {
   "cell_type": "code",
   "execution_count": 1,
   "id": "69e87473",
   "metadata": {},
   "outputs": [],
   "source": [
    "import pandas as pd\n",
    "import rdkit\n",
    "from rdkit.Chem import Draw\n",
    "from rdkit import Chem\n",
    "from rdkit import rdBase\n",
    "from rdkit.Chem import AllChem\n",
    "from rdkit.Chem import Descriptors\n",
    "from rdkit.Chem import PandasTools\n",
    "import os\n",
    "from rdkit import RDConfig\n",
    "from rdkit.Chem.MolStandardize import rdMolStandardize\n",
    "from rdkit.Chem.PandasTools import SaveXlsxFromFrame\n",
    "from rdkit import RDLogger"
   ]
  },
  {
   "cell_type": "code",
   "execution_count": 2,
   "id": "920a878e-cc0d-454e-b367-d9a390b4290d",
   "metadata": {},
   "outputs": [],
   "source": [
    "df1= pd.read_csv('5k_pdbbind_db.csv', sep=',', dtype={\"pdb_id\": str})\n"
   ]
  },
  {
   "cell_type": "code",
   "execution_count": 3,
   "id": "16f9700a-0324-47be-9801-d9e5e3524528",
   "metadata": {},
   "outputs": [],
   "source": [
    "df1['mol']=df1['isomeric_smiles'].map(Chem.MolFromSmiles)"
   ]
  },
  {
   "cell_type": "code",
   "execution_count": 4,
   "id": "946f53df-9ec6-488a-9bea-1777317992e2",
   "metadata": {},
   "outputs": [
    {
     "data": {
      "text/plain": [
       "0"
      ]
     },
     "execution_count": 4,
     "metadata": {},
     "output_type": "execute_result"
    }
   ],
   "source": [
    "df1['mol'].isna().sum()"
   ]
  },
  {
   "cell_type": "code",
   "execution_count": 5,
   "id": "cca91c34-9797-41e3-b98c-9220cb90c5e1",
   "metadata": {},
   "outputs": [],
   "source": [
    "def standardize(mol): \n",
    "    \n",
    "    rdBase.DisableLog('rdApp.info')\n",
    "    # removeHs, disconnect metal atoms, normalize the molecule, reionize the molecule\n",
    "    clean_mol = rdMolStandardize.Cleanup(mol) \n",
    "     \n",
    "    # if many fragments, get the \"parent\" (the actual mol we are interested in) \n",
    "    parent_clean_mol = rdMolStandardize.FragmentParent(clean_mol)\n",
    "         \n",
    "    # try to neutralize molecule\n",
    "    uncharger = rdMolStandardize.Uncharger() # annoying, but necessary as no convenience method exists\n",
    "    uncharged_parent_clean_mol = uncharger.uncharge(parent_clean_mol)\n",
    "    \n",
    "    \n",
    "    return uncharged_parent_clean_mol\n",
    " \n"
   ]
  },
  {
   "cell_type": "code",
   "execution_count": 6,
   "id": "6bed06b5-ed21-49bb-a13c-7cf1bbfa6d75",
   "metadata": {},
   "outputs": [],
   "source": [
    "df1['mol']=df1['mol'].apply(standardize)"
   ]
  },
  {
   "cell_type": "code",
   "execution_count": 7,
   "id": "85d80121-0efd-47f9-a847-9deabcd3db03",
   "metadata": {},
   "outputs": [],
   "source": [
    "csmi=[]\n",
    "for m in df1['mol']:\n",
    "    \n",
    "    m=Chem.MolToSmiles(m, isomericSmiles=False)\n",
    "    csmi.append(m)\n",
    "df1['canonical_smiles']=csmi"
   ]
  },
  {
   "cell_type": "code",
   "execution_count": 8,
   "id": "764677f5-5d59-43e4-aa8e-ca5784df9591",
   "metadata": {},
   "outputs": [
    {
     "data": {
      "text/plain": [
       "Nc1ncnc2c1ncn2C1OC(COP(=O)(O)OP(=O)(O)O)C(O)C1O                      31\n",
       "CC(C)CN(CC(O)C(Cc1ccccc1)NC(=O)OC1COC2OCCC12)S(=O)(=O)c1ccc(N)cc1    23\n",
       "N=c1[nH]c(=O)c2ncn(C3OC(COP(=O)(O)OP(=O)(O)O)C(O)C3O)c2[nH]1         20\n",
       "Nc1ncnc2c1ncn2C1OC(COP(=O)(O)OP(=O)(O)OP(=O)(O)O)C(O)C1O             20\n",
       "Nc1ncnc2c1ncn2C1OC(CSCCC(N)C(=O)O)C(O)C1O                            17\n",
       "                                                                     ..\n",
       "CC(C)OP(=O)(O)OC1C(O)OCC(O)C1O                                        1\n",
       "Cc1c(N)nc(C2CC2)nc1Cl                                                 1\n",
       "OCC1OC(OC2(COC3(CO)OC(CO)C(O)C3O)OC(CO)C(O)C2O)C(O)C(O)C1O            1\n",
       "OCC1OC(OC2(CCl)OC(CCl)C(O)C2O)C(O)C(O)C1Cl                            1\n",
       "Cc1nc(F)ccc1-c1cc(C[n+]2ccn(C)c2N)cc(C(=O)NCc2ccc(Cl)c(Cl)c2)c1       1\n",
       "Name: canonical_smiles, Length: 4131, dtype: int64"
      ]
     },
     "execution_count": 8,
     "metadata": {},
     "output_type": "execute_result"
    }
   ],
   "source": [
    "df1['canonical_smiles'].value_counts()"
   ]
  },
  {
   "cell_type": "code",
   "execution_count": 9,
   "id": "da851ea3-efa0-4e7b-a697-24cf7599cde7",
   "metadata": {},
   "outputs": [
    {
     "data": {
      "text/plain": [
       "HIV-1 PROTEASE                           303\n",
       "CARBONIC ANHYDRASE 2                     291\n",
       "HEAT SHOCK PROTEIN HSP90-ALPHA            94\n",
       "BROMODOMAIN-CONTAINING PROTEIN 4          69\n",
       "TRYPSIN                                   64\n",
       "                                        ... \n",
       "METHIONINE GAMMA-LYASE                     1\n",
       "FREQUENIN 2                                1\n",
       "FUCOSE-BINDING LECTIN PROTEIN              1\n",
       "CG5907-PA, ISOFORM A                       1\n",
       "ANTI-CIGUATOXIN ANTIBODY, LIGHT CHAIN      1\n",
       "Name: target, Length: 1412, dtype: int64"
      ]
     },
     "execution_count": 9,
     "metadata": {},
     "output_type": "execute_result"
    }
   ],
   "source": [
    "df1['target'].value_counts()"
   ]
  },
  {
   "cell_type": "code",
   "execution_count": 141,
   "id": "cda1406d-93a9-4b9e-b4ef-e732fd2fa86a",
   "metadata": {},
   "outputs": [],
   "source": [
    "df2=pd.read_csv('5k_pdbbind_finaldb.csv', sep=',', dtype={\"pdb_id\": str})"
   ]
  },
  {
   "cell_type": "code",
   "execution_count": 142,
   "id": "50990ceb-861d-4aec-a438-70663756677f",
   "metadata": {},
   "outputs": [
    {
     "data": {
      "text/plain": [
       "(5298, 14)"
      ]
     },
     "execution_count": 142,
     "metadata": {},
     "output_type": "execute_result"
    }
   ],
   "source": [
    "df2.shape"
   ]
  },
  {
   "cell_type": "code",
   "execution_count": 143,
   "id": "6a93fd9c",
   "metadata": {},
   "outputs": [],
   "source": [
    "df2= df2.drop(columns='index')"
   ]
  },
  {
   "cell_type": "code",
   "execution_count": 144,
   "id": "531b77af",
   "metadata": {},
   "outputs": [
    {
     "data": {
      "text/plain": [
       "Index(['pdb_id', 'resolution', 'year_x', 'log_ki_kd', 'activity_type',\n",
       "       'activity_units', 'activity_data', 'ligand_name', 'uniprot_id',\n",
       "       'target', 'isomeric_smiles', 'ligand', 'canonical_smiles '],\n",
       "      dtype='object')"
      ]
     },
     "execution_count": 144,
     "metadata": {},
     "output_type": "execute_result"
    }
   ],
   "source": [
    "df2.columns"
   ]
  },
  {
   "cell_type": "markdown",
   "id": "ae90ee80-172c-4741-9879-27844b66c0ae",
   "metadata": {},
   "source": [
    "df2=df2.drop(columns=['canonical_smiles '])"
   ]
  },
  {
   "cell_type": "code",
   "execution_count": 145,
   "id": "82a36216",
   "metadata": {},
   "outputs": [],
   "source": [
    "df2['mol']=df2['canonical_smiles '].map(Chem.MolFromSmiles)"
   ]
  },
  {
   "cell_type": "markdown",
   "id": "d5e814e1-9e36-44a3-99b5-4740519a2d0b",
   "metadata": {},
   "source": [
    "csmi=[]\n",
    "for m in df2['mol']:\n",
    "    m=Chem.MolToSmiles(m, isomericSmiles=False)\n",
    "    csmi.append(m)\n",
    "df2['canonical_smiles']=csmi"
   ]
  },
  {
   "cell_type": "code",
   "execution_count": 147,
   "id": "e344892c",
   "metadata": {},
   "outputs": [
    {
     "data": {
      "text/plain": [
       "CC(CN(S(=O)(=O)c1ccc(cc1)N)C[C@H]([C@H](Cc1ccccc1)NC(=O)O[C@H]1CO[C@@H]2[C@H]1CCO2)O)C           23\n",
       "OC(=O)[C@H](CCSC[C@H]1O[C@H]([C@@H]([C@@H]1O)O)n1cnc2c1ncnc2N)[NH3+]                             17\n",
       "NC(=N)NCCC[C@@H](C(=O)O)[NH3+]                                                                   16\n",
       "O[C@@H]1[C@@H](CO[P@](=O)(OP(=O)(O)O)O)O[C@H]([C@@H]1O)n1cnc2c1ncnc2N                            16\n",
       "O[C@@H]1[C@@H](CO[P@@](=O)(OP(=O)(O)O)O)O[C@H]([C@@H]1O)n1cnc2c1ncnc2N                           15\n",
       "                                                                                                 ..\n",
       "O[C@H]1C[NH2+]CC[C@@H]1CNc1cc(NCc2ccccc2)n2c(n1)c(cn2)C(C)C                                       1\n",
       "OC(=O)[C@H]([NH3+])CS                                                                             1\n",
       "SC[C@@H](Cc1ccccc1)NC(=O)CC(=O)O                                                                  1\n",
       "CN(C(=O)C1=CC(C=N1)c1n[nH]cc1c1ccccc1)C                                                           1\n",
       "COc1ccc(cc1)S(=O)(=O)N(C[C@H]([C@H](Cc1ccccc1)NC(=O)O[C@H]1C[C@@H]2[C@H](C1)NC(=O)O2)O)CC(C)C     1\n",
       "Name: canonical_smiles , Length: 4284, dtype: int64"
      ]
     },
     "execution_count": 147,
     "metadata": {},
     "output_type": "execute_result"
    }
   ],
   "source": [
    "df2['canonical_smiles '].value_counts()"
   ]
  },
  {
   "cell_type": "code",
   "execution_count": 148,
   "id": "841e4ece",
   "metadata": {},
   "outputs": [
    {
     "data": {
      "text/plain": [
       "<module 'VS_filters' from 'C:\\\\Users\\\\Akhila\\\\Documents\\\\Dataprocessing on PDBbind_v2020\\\\VS_filters.py'>"
      ]
     },
     "execution_count": 148,
     "metadata": {},
     "output_type": "execute_result"
    }
   ],
   "source": [
    "import VS_filters\n",
    "from VS_filters import *\n",
    "import importlib\n",
    "importlib.reload(VS_filters)"
   ]
  },
  {
   "cell_type": "code",
   "execution_count": null,
   "id": "dde77cb0",
   "metadata": {},
   "outputs": [],
   "source": []
  },
  {
   "cell_type": "code",
   "execution_count": null,
   "id": "f3bc7b7c-28df-42bf-84e8-0fabe4e8059a",
   "metadata": {},
   "outputs": [],
   "source": []
  },
  {
   "cell_type": "code",
   "execution_count": 149,
   "id": "5688e56f",
   "metadata": {},
   "outputs": [],
   "source": [
    "df3=P_containing_molecules(df2)"
   ]
  },
  {
   "cell_type": "code",
   "execution_count": 150,
   "id": "a793b33f",
   "metadata": {},
   "outputs": [
    {
     "data": {
      "text/plain": [
       "(5298, 15)"
      ]
     },
     "execution_count": 150,
     "metadata": {},
     "output_type": "execute_result"
    }
   ],
   "source": [
    "df3.shape"
   ]
  },
  {
   "cell_type": "code",
   "execution_count": 151,
   "id": "6de2cc40",
   "metadata": {},
   "outputs": [],
   "source": [
    "df3_no_P=df3[df3['P_containing']==0]"
   ]
  },
  {
   "cell_type": "code",
   "execution_count": 152,
   "id": "5d9c9a04",
   "metadata": {},
   "outputs": [
    {
     "data": {
      "text/plain": [
       "(4631, 15)"
      ]
     },
     "execution_count": 152,
     "metadata": {},
     "output_type": "execute_result"
    }
   ],
   "source": [
    "df3_no_P.shape"
   ]
  },
  {
   "cell_type": "code",
   "execution_count": 153,
   "id": "d5836713",
   "metadata": {},
   "outputs": [
    {
     "data": {
      "text/plain": [
       "(667, 15)"
      ]
     },
     "execution_count": 153,
     "metadata": {},
     "output_type": "execute_result"
    }
   ],
   "source": [
    "df3_with_P=df3[df3['P_containing']>0]\n",
    "df3_with_P.shape"
   ]
  },
  {
   "cell_type": "code",
   "execution_count": 154,
   "id": "2406afdb",
   "metadata": {},
   "outputs": [],
   "source": [
    "df4_ro5=df3_no_P['mol'].apply(ro5_property_estimation)"
   ]
  },
  {
   "cell_type": "code",
   "execution_count": 155,
   "id": "4a7947fc",
   "metadata": {},
   "outputs": [
    {
     "data": {
      "text/plain": [
       "(4631, 6)"
      ]
     },
     "execution_count": 155,
     "metadata": {},
     "output_type": "execute_result"
    }
   ],
   "source": [
    "df4_ro5.shape"
   ]
  },
  {
   "cell_type": "code",
   "execution_count": 156,
   "id": "1babcf53",
   "metadata": {},
   "outputs": [
    {
     "data": {
      "text/plain": [
       "(4631, 21)"
      ]
     },
     "execution_count": 156,
     "metadata": {},
     "output_type": "execute_result"
    }
   ],
   "source": [
    "df5_merge=pd.concat([df3_no_P, df4_ro5], axis=1)\n",
    "df5_merge.shape"
   ]
  },
  {
   "cell_type": "code",
   "execution_count": 157,
   "id": "dcd8e5f9",
   "metadata": {},
   "outputs": [],
   "source": [
    "df5_merge.reset_index(inplace=True)"
   ]
  },
  {
   "cell_type": "code",
   "execution_count": 158,
   "id": "a36e793e",
   "metadata": {},
   "outputs": [],
   "source": [
    "df6_ro5_fulfilled=df5_merge[df5_merge['ro5_fulfilled']==True]"
   ]
  },
  {
   "cell_type": "code",
   "execution_count": 159,
   "id": "8ade18aa-6634-4dff-a84f-7ec902d73691",
   "metadata": {},
   "outputs": [
    {
     "data": {
      "text/plain": [
       "(1708, 22)"
      ]
     },
     "execution_count": 159,
     "metadata": {},
     "output_type": "execute_result"
    }
   ],
   "source": [
    "df6_ro5_fulfilled.shape"
   ]
  },
  {
   "cell_type": "code",
   "execution_count": 160,
   "id": "4a9ddce3-edff-4f8d-aa94-df762d178be4",
   "metadata": {},
   "outputs": [
    {
     "data": {
      "text/plain": [
       "2923"
      ]
     },
     "execution_count": 160,
     "metadata": {},
     "output_type": "execute_result"
    }
   ],
   "source": [
    "4631-1708"
   ]
  },
  {
   "cell_type": "code",
   "execution_count": 161,
   "id": "43ecac4d",
   "metadata": {},
   "outputs": [
    {
     "data": {
      "text/plain": [
       "(1708, 22)"
      ]
     },
     "execution_count": 161,
     "metadata": {},
     "output_type": "execute_result"
    }
   ],
   "source": [
    "df6_ro5_fulfilled.shape"
   ]
  },
  {
   "cell_type": "code",
   "execution_count": 162,
   "id": "73528043-3897-4300-b6ec-1ad43fa0184b",
   "metadata": {},
   "outputs": [
    {
     "name": "stderr",
     "output_type": "stream",
     "text": [
      "C:\\Users\\Akhila\\Documents\\Dataprocessing on PDBbind_v2020\\VS_filters.py:184: SettingWithCopyWarning: \n",
      "A value is trying to be set on a copy of a slice from a DataFrame.\n",
      "Try using .loc[row_indexer,col_indexer] = value instead\n",
      "\n",
      "See the caveats in the documentation: https://pandas.pydata.org/pandas-docs/stable/user_guide/indexing.html#returning-a-view-versus-a-copy\n",
      "  df['Aliphatic_chain_len']=ali_c\n",
      "C:\\Users\\Akhila\\AppData\\Local\\Temp\\ipykernel_30412\\2599030078.py:3: SettingWithCopyWarning: \n",
      "A value is trying to be set on a copy of a slice from a DataFrame.\n",
      "Try using .loc[row_indexer,col_indexer] = value instead\n",
      "\n",
      "See the caveats in the documentation: https://pandas.pydata.org/pandas-docs/stable/user_guide/indexing.html#returning-a-view-versus-a-copy\n",
      "  df6_ro5_fulfilled['ali_N']=df6_ro5_fulfilled['mol'].apply(aliphatic_amino_count)\n",
      "C:\\Users\\Akhila\\Documents\\Dataprocessing on PDBbind_v2020\\VS_filters.py:136: SettingWithCopyWarning: \n",
      "A value is trying to be set on a copy of a slice from a DataFrame.\n",
      "Try using .loc[row_indexer,col_indexer] = value instead\n",
      "\n",
      "See the caveats in the documentation: https://pandas.pydata.org/pandas-docs/stable/user_guide/indexing.html#returning-a-view-versus-a-copy\n",
      "  df['carboxyl_group_count']=y\n",
      "C:\\Users\\Akhila\\Documents\\Dataprocessing on PDBbind_v2020\\VS_filters.py:202: SettingWithCopyWarning: \n",
      "A value is trying to be set on a copy of a slice from a DataFrame.\n",
      "Try using .loc[row_indexer,col_indexer] = value instead\n",
      "\n",
      "See the caveats in the documentation: https://pandas.pydata.org/pandas-docs/stable/user_guide/indexing.html#returning-a-view-versus-a-copy\n",
      "  df['chiral_c']=y\n",
      "C:\\Users\\Akhila\\Documents\\Dataprocessing on PDBbind_v2020\\VS_filters.py:203: SettingWithCopyWarning: \n",
      "A value is trying to be set on a copy of a slice from a DataFrame.\n",
      "Try using .loc[row_indexer,col_indexer] = value instead\n",
      "\n",
      "See the caveats in the documentation: https://pandas.pydata.org/pandas-docs/stable/user_guide/indexing.html#returning-a-view-versus-a-copy\n",
      "  df['ring_c']=z\n",
      "C:\\Users\\Akhila\\Documents\\Dataprocessing on PDBbind_v2020\\VS_filters.py:253: SettingWithCopyWarning: \n",
      "A value is trying to be set on a copy of a slice from a DataFrame.\n",
      "Try using .loc[row_indexer,col_indexer] = value instead\n",
      "\n",
      "See the caveats in the documentation: https://pandas.pydata.org/pandas-docs/stable/user_guide/indexing.html#returning-a-view-versus-a-copy\n",
      "  df['count_four_fused_rings']=r\n"
     ]
    }
   ],
   "source": [
    "df6_ro5_fulfilled=aliphatic_atom_count(df6_ro5_fulfilled)\n",
    "\n",
    "df6_ro5_fulfilled['ali_N']=df6_ro5_fulfilled['mol'].apply(aliphatic_amino_count) \n",
    "\n",
    "df6_ro5_fulfilled=car_acids(df6_ro5_fulfilled)\n",
    "\n",
    "df6_ro5_fulfilled=chiral_center_and_ringcount(df6_ro5_fulfilled)\n",
    "\n",
    "df6_ro5_fulfilled=four_fusedring_count(df6_ro5_fulfilled)"
   ]
  },
  {
   "cell_type": "code",
   "execution_count": 163,
   "id": "d71b09db",
   "metadata": {},
   "outputs": [],
   "source": [
    "df7= df6_ro5_fulfilled[(df6_ro5_fulfilled['ring_c'] > 0)& (df6_ro5_fulfilled['Aliphatic_chain_len']<6)& (df6_ro5_fulfilled['chiral_c'] <3)& (df6_ro5_fulfilled['count_four_fused_rings']<1)]"
   ]
  },
  {
   "cell_type": "code",
   "execution_count": 164,
   "id": "ef5517e8",
   "metadata": {},
   "outputs": [
    {
     "data": {
      "text/plain": [
       "(1391, 28)"
      ]
     },
     "execution_count": 164,
     "metadata": {},
     "output_type": "execute_result"
    }
   ],
   "source": [
    "df7.shape #345  {-4, -24, -275, -14}"
   ]
  },
  {
   "cell_type": "code",
   "execution_count": 165,
   "id": "e9bfdfc3",
   "metadata": {},
   "outputs": [
    {
     "data": {
      "text/plain": [
       "317"
      ]
     },
     "execution_count": 165,
     "metadata": {},
     "output_type": "execute_result"
    }
   ],
   "source": [
    "1708-1391"
   ]
  },
  {
   "cell_type": "code",
   "execution_count": 166,
   "id": "4aa6d189-9b31-4655-b2d5-278dcb34bb12",
   "metadata": {},
   "outputs": [],
   "source": [
    "df8= df7[(df7['ali_N']<=2) & (df7['carboxyl_group_count']<=1)]\n",
    "\n",
    "df8=df8.drop(df8.loc[(df7['carboxyl_group_count']==1)& (df8['ali_N'].isin([1,2]))].index)"
   ]
  },
  {
   "cell_type": "code",
   "execution_count": 167,
   "id": "1dba6b65",
   "metadata": {},
   "outputs": [
    {
     "data": {
      "text/plain": [
       "(1334, 28)"
      ]
     },
     "execution_count": 167,
     "metadata": {},
     "output_type": "execute_result"
    }
   ],
   "source": [
    "df8.shape #56"
   ]
  },
  {
   "cell_type": "code",
   "execution_count": 168,
   "id": "4533dfe1-a8f7-4284-9dbb-610f13fda977",
   "metadata": {},
   "outputs": [],
   "source": [
    "df8.to_csv('PDB_bind_after_VS_filters.csv')"
   ]
  },
  {
   "cell_type": "code",
   "execution_count": 169,
   "id": "0437404d-f948-43da-aed8-c7ea0c6c8ec9",
   "metadata": {},
   "outputs": [
    {
     "data": {
      "text/plain": [
       "Index(['index', 'pdb_id', 'resolution', 'year_x', 'log_ki_kd', 'activity_type',\n",
       "       'activity_units', 'activity_data', 'ligand_name', 'uniprot_id',\n",
       "       'target', 'isomeric_smiles', 'ligand', 'canonical_smiles ', 'mol',\n",
       "       'P_containing', 'Molecular_Weight', 'n_HBA', 'n_HBD', 'LogP',\n",
       "       'Rot_bonds', 'ro5_fulfilled', 'Aliphatic_chain_len', 'ali_N',\n",
       "       'carboxyl_group_count', 'chiral_c', 'ring_c', 'count_four_fused_rings'],\n",
       "      dtype='object')"
      ]
     },
     "execution_count": 169,
     "metadata": {},
     "output_type": "execute_result"
    }
   ],
   "source": [
    "df8.columns"
   ]
  },
  {
   "cell_type": "code",
   "execution_count": 170,
   "id": "2dc4ea8e",
   "metadata": {},
   "outputs": [
    {
     "data": {
      "text/plain": [
       "uniprot_id  canonical_smiles                                                  \n",
       "------      OC(=O)CCN(C(=O)c1ccc2c(c1)nc(n2C)CNc1ccc(cc1)C(=N)N)c1ccccn1          3\n",
       "            O[C@@H]1CCC/C=C/c2cc(O)cc(c2C(=O)O[C@H](CCC1)C)O                      2\n",
       "            C=CCNc1nc(SCc2ccc(cc2)Cl)nc2c1c1CC[N@@H+](Cc1s2)C                     1\n",
       "            CC(=O)Nc1ccc2c(c1S(=O)(=O)O)cccc2S(=O)(=O)O                           1\n",
       "            CCN1C(c2ccccc2)c2cc(N)ccc2-c2c1cc(N)cc2                               1\n",
       "                                                                                 ..\n",
       "Q9Z2X8      OC(=O)C[C@H](c1ccc2c(c1)nnn2C)c1ccc(c(c1)CN(S(=O)(=O)C)C)Cl           1\n",
       "            OC(=O)C[C@H](c1ccc2c(c1)nnn2C)c1ccc(c(c1)CN(S(=O)(=O)c1ccccc1)C)Cl    1\n",
       "            OC(=O)C[C@H](c1ccc2c(c1)nnn2C)c1ccc(cc1)Cl                            1\n",
       "Q9ZLT0      CC(Cn1c2nn(c(c2c(=O)n(c1=O)C)c1ccncc1)Cc1cccc2c1cccc2)C               1\n",
       "U6NCW5      NC(=O)Cn1c2C[C@@H](CCc2c2c1ccc(c2)Cl)C(=O)O                           1\n",
       "Name: canonical_smiles , Length: 1300, dtype: int64"
      ]
     },
     "execution_count": 170,
     "metadata": {},
     "output_type": "execute_result"
    }
   ],
   "source": [
    "df8.groupby('uniprot_id')['canonical_smiles '].value_counts() "
   ]
  },
  {
   "cell_type": "code",
   "execution_count": 178,
   "id": "0fa7b23c",
   "metadata": {},
   "outputs": [],
   "source": [
    "df9=df8.drop_duplicates(subset=['target', 'canonical_smiles '], keep='first') #final dataset********"
   ]
  },
  {
   "cell_type": "code",
   "execution_count": 179,
   "id": "62dfa64b",
   "metadata": {},
   "outputs": [
    {
     "data": {
      "text/plain": [
       "(1299, 28)"
      ]
     },
     "execution_count": 179,
     "metadata": {},
     "output_type": "execute_result"
    }
   ],
   "source": [
    "df9.shape"
   ]
  },
  {
   "cell_type": "code",
   "execution_count": 180,
   "id": "c7e88ac1",
   "metadata": {},
   "outputs": [
    {
     "data": {
      "text/plain": [
       "target                                         canonical_smiles                                                           \n",
       "(3R)-HYDROXYACYL-ACP DEHYDRATASE SUBUNIT HADA  Oc1ccc(cc1)/C=C/C(=O)c1ccc(cc1O)O                                              1\n",
       "                                               Oc1ccc2c(c1)O[C@@H]([C@H](C2=O)O)c1ccc(c(c1)O)O                                1\n",
       "(3R)-HYDROXYMYRISTOYL-ACYL CARRIER PROTEIN     Cc1cc(O)c2c(c1)C(=O)c1c(C2=O)c(O)cc(c1)O                                       1\n",
       "                                               O=C(c1cccnc1)N/N=C/c1cc(Br)c(c(c1O)Br)O                                        1\n",
       "2',5'-PHOSPHODIESTERASE 12                     OC[C@H]1[C@@H](OCCN1C(=O)c1ccc2c(c1)n(C)c(n2)c1c[nH]c2c1ccc(c2)C#N)c1ccccc1    1\n",
       "                                                                                                                             ..\n",
       "WD REPEAT-CONTAINING PROTEIN 5                 OCc1c[nH]c(n1)CCCCNC(=O)OCc1ccccc1                                             1\n",
       "                                               OCc1c[nH]c(n1)CCCCNC(=O)c1ccccc1                                               1\n",
       "WEE1-LIKE PROTEIN KINASE                       CC(=O)NCC(=O)N1[C@H]2CC[C@@H]1c1c2ccc(c1)Nc1ncc(c(n1)NC1CCC1)C(F)(F)F          1\n",
       "                                               COc1cc2c(cc1OCCC[N@@H+]1CC[N@@H+](CC1)C)ncc(c2Nc1cc(Cl)c(c(c1)Cl)OC)C#N        1\n",
       "                                               COc1cc2c(cc1OCCC[N@@H+]1CC[N@H+](CC1)C)ncc(c2Nc1cc(OC)c(cc1Cl)Cl)C#N           1\n",
       "Name: canonical_smiles , Length: 1299, dtype: int64"
      ]
     },
     "execution_count": 180,
     "metadata": {},
     "output_type": "execute_result"
    }
   ],
   "source": [
    "df9.groupby('target')['canonical_smiles '].value_counts()  #unique target and ligand #1299"
   ]
  },
  {
   "cell_type": "code",
   "execution_count": 182,
   "id": "ce809228",
   "metadata": {},
   "outputs": [],
   "source": [
    "df10=df9.loc[df9['uniprot_id'] != '------']"
   ]
  },
  {
   "cell_type": "code",
   "execution_count": 183,
   "id": "11143f48",
   "metadata": {},
   "outputs": [
    {
     "data": {
      "text/plain": [
       "(1286, 28)"
      ]
     },
     "execution_count": 183,
     "metadata": {},
     "output_type": "execute_result"
    }
   ],
   "source": [
    "df10.shape #1286"
   ]
  },
  {
   "cell_type": "code",
   "execution_count": null,
   "id": "20fd0043-3d0f-42ea-aa06-e798537c8266",
   "metadata": {},
   "outputs": [],
   "source": [
    "PandasTools.SaveXlsxFromFrame(df10,'vs_fil_pdbbind_db_1286.xlsx', molCol='mol', size=(250,250))"
   ]
  },
  {
   "cell_type": "code",
   "execution_count": null,
   "id": "518638fb-ee8a-4b34-b74a-91461b3d1c6e",
   "metadata": {},
   "outputs": [],
   "source": []
  },
  {
   "cell_type": "code",
   "execution_count": null,
   "id": "42bb2d79-fa3f-4ab3-98b5-d7ac7dcda648",
   "metadata": {},
   "outputs": [],
   "source": []
  }
 ],
 "metadata": {
  "kernelspec": {
   "display_name": "Python 3 (ipykernel)",
   "language": "python",
   "name": "python3"
  },
  "language_info": {
   "codemirror_mode": {
    "name": "ipython",
    "version": 3
   },
   "file_extension": ".py",
   "mimetype": "text/x-python",
   "name": "python",
   "nbconvert_exporter": "python",
   "pygments_lexer": "ipython3",
   "version": "3.9.18"
  }
 },
 "nbformat": 4,
 "nbformat_minor": 5
}
