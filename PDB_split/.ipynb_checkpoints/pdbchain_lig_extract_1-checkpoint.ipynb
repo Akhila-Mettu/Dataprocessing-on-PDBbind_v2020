{
 "cells": [
  {
   "cell_type": "code",
   "execution_count": 1,
   "id": "88859fb8-edc4-4154-a5f9-03e4de323853",
   "metadata": {},
   "outputs": [],
   "source": [
    "import pandas as pd\n",
    "import os\n",
    "import time"
   ]
  },
  {
   "cell_type": "code",
   "execution_count": 2,
   "id": "d55a7b0d-4dbe-46ab-af1d-1d760da7c0a4",
   "metadata": {},
   "outputs": [],
   "source": [
    "ligand_list=['BBY', 'UFV', '5RL', '5WD', 'ZT2', 'ZT4', 'CLQ', 'TPR', 'E7E', 'JJN', '82J', '09I', 'A7M', 'SB2','35I', '0JN', '3JG', 'HYS','GM5','ACV']"
   ]
  },
  {
   "cell_type": "code",
   "execution_count": 3,
   "id": "e85a57a5-47fc-4899-a19f-67b1c819d871",
   "metadata": {},
   "outputs": [
    {
     "data": {
      "text/plain": [
       "20"
      ]
     },
     "execution_count": 3,
     "metadata": {},
     "output_type": "execute_result"
    }
   ],
   "source": [
    "len(ligand_list)"
   ]
  },
  {
   "cell_type": "code",
   "execution_count": 4,
   "id": "80b7b472-475a-4d81-9ecb-524750cb5e92",
   "metadata": {},
   "outputs": [],
   "source": [
    "ions_list=[\"ZN\",\"MN\", \"CD\", \"NI\", \"NA\", \"MG\", \"ARS\", \"K\", \"CA\", \"HG\"]"
   ]
  },
  {
   "cell_type": "code",
   "execution_count": 5,
   "id": "c3d0fc5f-62d7-4fdb-bddc-5b99fe201387",
   "metadata": {},
   "outputs": [],
   "source": [
    "def pdb_split_chain(input_dir, output_dir):\n",
    "    for filename in os.listdir(input_dir):\n",
    "        if filename.endswith('.pdb'):\n",
    "            d=filename\n",
    "            with open(os.path.join(input_dir, filename)) as g:\n",
    "                file_lines=g.readlines()\n",
    "\n",
    "                for lines in file_lines:\n",
    "                    if lines.split()[0]=='HETATM'  and (lines.split()[4][0]=='A' or lines.split()[4][0]=='X' or lines.split()[4][0]=='U' or lines.split()[4][0]=='H') and (lines.split()[3] in ligand_list):\n",
    "                        print(filename+\":A\")\n",
    "\n",
    "                        with open(os.path.join(input_dir, filename)) as g:\n",
    "                            file_lines=g.readlines()\n",
    "                            f= open(output_dir+filename,'a+')\n",
    "\n",
    "                            for lines in file_lines:    \n",
    "\n",
    "                                if lines.split()[0]=='HEADER':\n",
    "                                    f.writelines(lines)\n",
    "                                if lines.split()[0]=='TITLE':\n",
    "                                    f.writelines(lines)                \n",
    "                                if lines.split()[0]=='ATOM' and (lines.split()[4][0]=='A' or lines.split()[4][0]=='X'or lines.split()[4][0]=='U' or lines.split()[4][0]=='H'):\n",
    "                                    f.writelines(lines)\n",
    "                                if lines.split()[0]=='TER' and (lines.split()[3][0]=='A' or lines.split()[3][0]=='X'or lines.split()[3][0]=='U' or lines.split()[3][0]=='H'):\n",
    "                                    f.writelines(lines)\n",
    "                                if lines.split()[0]=='HETATM' and (lines.split()[3]  in ligand_list) and (lines.split()[4][0]=='A' or lines.split()[4][0]=='X' or lines.split()[4][0]=='U' or lines.split()[4][0]=='H'):\n",
    "                                    f.writelines(lines)\n",
    "                                if lines.split()[0]=='HETATM' and (lines.split()[4][0]=='A'or lines.split()[4][0]=='X' or lines.split()[4][0]=='U' or lines.split()[4][0]=='H') and lines.split()[3]  in ions_list:\n",
    "                                    f.writelines(lines)\n",
    "                                if lines.split()[0]=='MASTER':\n",
    "                                    f.writelines(lines)\n",
    "                                if lines.split()[0]=='END':\n",
    "                                    f.writelines(lines)\n",
    "\n",
    "\n",
    "                            f.close()\n",
    "                            break\n",
    "\n",
    "\n",
    "                    elif lines.split()[0]=='HETATM' and lines.split()[4][0]=='B' and lines.split()[3] in ligand_list:\n",
    "                        print(filename+\":B\")\n",
    "\n",
    "                        with open(os.path.join(input_dir, filename)) as g:\n",
    "                            file_lines=g.readlines()\n",
    "                            f= open(output_dir+filename,'a+')\n",
    "\n",
    "\n",
    "                            for lines in file_lines:\n",
    "                                if lines.split()[0]=='HEADER':\n",
    "                                    f.writelines(lines)\n",
    "                                if lines.split()[0]=='TITLE':\n",
    "                                    f.writelines(lines)\n",
    "                                if lines.split()[0]=='ATOM' and lines.split()[4][0]=='B':\n",
    "                                    f.writelines(lines)\n",
    "                                if lines.split()[0]=='TER' and lines.split()[3][0]=='B':\n",
    "                                    f.writelines(lines)\n",
    "                                if lines.split()[0]=='HETATM' and lines.split()[3] in ligand_list and lines.split()[4][0]=='B':\n",
    "                                    f.writelines(lines)\n",
    "                                if lines.split()[0]=='HETATM' and lines.split()[4][0]=='B' and lines.split()[3] in ions_list:\n",
    "                                    f.writelines(lines)\n",
    "                                if lines.split()[0]=='MASTER':\n",
    "                                    f.writelines(lines)\n",
    "                                if lines.split()[0]=='END':\n",
    "                                    f.writelines(lines)\n",
    "\n",
    "                            f.close() \n",
    "                            break\n",
    "\n",
    "                    elif lines.split()[0]=='HETATM' and lines.split()[4][0]=='C' and lines.split()[3] in ligand_list:\n",
    "                        print(filename+\":C\")\n",
    "\n",
    "                        with open(os.path.join(input_dir, filename)) as g:\n",
    "                            file_lines=g.readlines()\n",
    "                            f= open(output_dir+filename,'a+')\n",
    "\n",
    "\n",
    "                            for lines in file_lines:\n",
    "                                if lines.split()[0]=='HEADER':\n",
    "                                    f.writelines(lines)\n",
    "                                if lines.split()[0]=='TITLE':\n",
    "                                    f.writelines(lines)\n",
    "                                if lines.split()[0]=='ATOM' and lines.split()[4][0]=='C':\n",
    "                                    f.writelines(lines)\n",
    "                                if lines.split()[0]=='TER' and lines.split()[3][0]=='C':\n",
    "                                    f.writelines(lines)\n",
    "                                if lines.split()[0]=='HETATM' and lines.split()[3] in ligand_list and lines.split()[4][0]=='C':\n",
    "                                    f.writelines(lines)\n",
    "                                if lines.split()[0]=='HETATM' and lines.split()[4][0]=='C' and lines.split()[3] in ions_list:\n",
    "                                    f.writelines(lines)\n",
    "                                if lines.split()[0]=='MASTER':\n",
    "                                    f.writelines(lines)\n",
    "                                if lines.split()[0]=='END':\n",
    "                                    f.writelines(lines)\n",
    "\n",
    "                            f.close() \n",
    "                            break\n",
    "\n",
    "                    elif lines.split()[0]=='HETATM' and lines.split()[4][0]=='D' and lines.split()[3] in ligand_list:\n",
    "                        print(filename+\":D\")\n",
    "\n",
    "                        with open(os.path.join(input_dir, filename)) as g:\n",
    "                            file_lines=g.readlines()\n",
    "                            f= open(output_dir+filename,'a+')\n",
    "\n",
    "\n",
    "                            for lines in file_lines:\n",
    "                                if lines.split()[0]=='HEADER':\n",
    "                                    f.writelines(lines)\n",
    "                                if lines.split()[0]=='TITLE':\n",
    "                                    f.writelines(lines)\n",
    "                                if lines.split()[0]=='ATOM' and lines.split()[4][0]=='D':\n",
    "                                    f.writelines(lines)\n",
    "                                if lines.split()[0]=='TER' and lines.split()[3][0]=='D':\n",
    "                                    f.writelines(lines)\n",
    "                                if lines.split()[0]=='HETATM' and lines.split()[3] in ligand_list and lines.split()[4][0]=='D':\n",
    "                                    f.writelines(lines)\n",
    "                                if lines.split()[0]=='HETATM' and lines.split()[4][0]=='D' and lines.split()[3] in ions_list:\n",
    "                                    f.writelines(lines)\n",
    "                                if lines.split()[0]=='MASTER':\n",
    "                                    f.writelines(lines)\n",
    "                                if lines.split()[0]=='END':\n",
    "                                    f.writelines(lines)\n",
    "\n",
    "                            f.close() \n",
    "                            break\n"
   ]
  },
  {
   "cell_type": "code",
   "execution_count": 6,
   "id": "5176f749-0dbd-4cc4-ae8f-53d759d688cf",
   "metadata": {},
   "outputs": [
    {
     "name": "stdout",
     "output_type": "stream",
     "text": [
      "1cet.pdb:A\n",
      "1f4e.pdb:A\n",
      "3ao5.pdb:A\n",
      "3zt2.pdb:A\n",
      "3zt3.pdb:A\n",
      "5aol.pdb:A\n",
      "5er4.pdb:A\n",
      "5fbi.pdb:A\n",
      "5u6j.pdb:A\n",
      "5zc5.pdb:A\n",
      "6ftz.pdb:A\n",
      "6ooy.pdb:C\n",
      "6quv.pdb:B\n",
      "6zae.pdb:A\n",
      "3.4253809452056885\n"
     ]
    }
   ],
   "source": [
    "#20 psbs in seven seconds\n",
    "t1=time.time()\n",
    "pdb_split_chain(input_dir='./pdbs/', output_dir='./results_1/')\n",
    "t2=time.time()\n",
    "print(t2-t1)"
   ]
  },
  {
   "cell_type": "code",
   "execution_count": 7,
   "id": "b5c77655-debd-45aa-a907-3e5264c1419a",
   "metadata": {},
   "outputs": [],
   "source": [
    "def ligand_from_pdb(input_dir,output_dir):\n",
    "    for filename in os.listdir(input_dir):\n",
    "        if filename.endswith('.pdb'):\n",
    "            d=filename.replace(\".pdb\",\"\")\n",
    "\n",
    "            with open(os.path.join(input_dir, filename)) as file:\n",
    "                for lines in file.readlines():\n",
    "                    if lines.split()[0]=='HETATM' and lines.split()[3]  in ligand_list:\n",
    "                        for j in ligand_list:\n",
    "                            if lines.split()[3]==j:\n",
    "                                g=j\n",
    "\n",
    "            with open(os.path.join(input_dir, filename)) as file:\n",
    "                f= open(output_dir+d+\"_\"+g+\".pdb\", 'a+')\n",
    "                f.writelines(f\"pdb_id {d}\\n\")\n",
    "                for lines in file.readlines():\n",
    "                    if lines.split()[0]=='HETATM' and lines.split()[3]  in ligand_list:\n",
    "                        f.writelines(lines)\n",
    "                \n",
    "                f.writelines(\"END\")\n",
    "                f.close()\n",
    "\n",
    "            with open(os.path.join(input_dir, filename)) as file:\n",
    "                g=open(output_dir+d+\".pdb\", \"a+\")\n",
    "                for lines in file.readlines():\n",
    "                    if not (lines.split()[0]=='HETATM' and lines.split()[3] in ligand_list):\n",
    "\n",
    "                        g.writelines(lines)\n",
    "                g.close()\n",
    "            \n",
    "\n",
    "\n",
    "\n",
    "\n",
    "\n"
   ]
  },
  {
   "cell_type": "code",
   "execution_count": 8,
   "id": "a1079b64-8138-4275-9368-fa591b1c93c6",
   "metadata": {},
   "outputs": [
    {
     "name": "stdout",
     "output_type": "stream",
     "text": [
      "5.0587158203125\n"
     ]
    }
   ],
   "source": [
    "t1=time.time()\n",
    "ligand_from_pdb(input_dir='./results_1/', output_dir='./results_3/')\n",
    "t2=time.time()\n",
    "print(t2-t1)"
   ]
  },
  {
   "cell_type": "code",
   "execution_count": null,
   "id": "48d269dc-ceea-43fc-8c52-c5d5d7c2baeb",
   "metadata": {},
   "outputs": [],
   "source": []
  },
  {
   "cell_type": "code",
   "execution_count": null,
   "id": "3bc0eff9-44f7-47d2-b4a3-150dfb0db9a9",
   "metadata": {},
   "outputs": [],
   "source": []
  }
 ],
 "metadata": {
  "kernelspec": {
   "display_name": "Python 3 (ipykernel)",
   "language": "python",
   "name": "python3"
  },
  "language_info": {
   "codemirror_mode": {
    "name": "ipython",
    "version": 3
   },
   "file_extension": ".py",
   "mimetype": "text/x-python",
   "name": "python",
   "nbconvert_exporter": "python",
   "pygments_lexer": "ipython3",
   "version": "3.9.18"
  }
 },
 "nbformat": 4,
 "nbformat_minor": 5
}
