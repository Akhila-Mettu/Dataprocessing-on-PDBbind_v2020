{
 "cells": [
  {
   "cell_type": "code",
   "execution_count": 1,
   "id": "88859fb8-edc4-4154-a5f9-03e4de323853",
   "metadata": {},
   "outputs": [],
   "source": [
    "import pandas as pd\n",
    "import os\n",
    "import time\n",
    "import PDB_split\n",
    "from PDB_split import *"
   ]
  },
  {
   "cell_type": "code",
   "execution_count": 2,
   "id": "d55a7b0d-4dbe-46ab-af1d-1d760da7c0a4",
   "metadata": {},
   "outputs": [],
   "source": [
    "ligand_list=['BBY', 'UFV', '5RL', '5WD', 'ZT2', 'ZT4', 'CLQ', 'TPR', 'E7E', 'JJN', '82J', '09I', 'A7M', 'SB2','35I', '0JN', '3JG', 'HYS','GM5','ACV']"
   ]
  },
  {
   "cell_type": "code",
   "execution_count": 3,
   "id": "e85a57a5-47fc-4899-a19f-67b1c819d871",
   "metadata": {},
   "outputs": [
    {
     "data": {
      "text/plain": [
       "20"
      ]
     },
     "execution_count": 3,
     "metadata": {},
     "output_type": "execute_result"
    }
   ],
   "source": [
    "len(ligand_list)"
   ]
  },
  {
   "cell_type": "code",
   "execution_count": 4,
   "id": "80b7b472-475a-4d81-9ecb-524750cb5e92",
   "metadata": {},
   "outputs": [],
   "source": [
    "ions_list=[\"ZN\",\"MN\", \"CD\", \"NI\", \"NA\", \"MG\", \"ARS\", \"K\", \"CA\", \"HG\"]"
   ]
  },
  {
   "cell_type": "code",
   "execution_count": 5,
   "id": "5176f749-0dbd-4cc4-ae8f-53d759d688cf",
   "metadata": {},
   "outputs": [
    {
     "name": "stdout",
     "output_type": "stream",
     "text": [
      "1cet.pdb:A\n",
      "1f4e.pdb:A\n",
      "3ao5.pdb:A\n",
      "3zt2.pdb:A\n",
      "3zt3.pdb:A\n",
      "5aol.pdb:A\n",
      "5er4.pdb:A\n",
      "5fbi.pdb:A\n",
      "5u6j.pdb:A\n",
      "5zc5.pdb:A\n",
      "6ftz.pdb:A\n",
      "6ooy.pdb:C\n",
      "6quv.pdb:B\n",
      "6zae.pdb:A\n",
      "Time to split 14 pdbs based on ligands of type-1 format:1.8798420429229736s.\n"
     ]
    }
   ],
   "source": [
    "t1=time.time()\n",
    "pdb_split_chain(input_dir='./pdbs/', output_dir='./extracted_pdbs1/', ligand_list=ligand_list, ions_list=ions_list)\n",
    "t2=time.time()\n",
    "print(f\"Time to split 14 pdbs based on ligands of type-1 format:{t2-t1}s.\")"
   ]
  },
  {
   "cell_type": "code",
   "execution_count": 6,
   "id": "a1079b64-8138-4275-9368-fa591b1c93c6",
   "metadata": {},
   "outputs": [
    {
     "name": "stdout",
     "output_type": "stream",
     "text": [
      "Time to split ligands from 14 extracted pdbs:1.5053746700286865s.\n"
     ]
    }
   ],
   "source": [
    "t1=time.time()\n",
    "ligand_from_pdb(input_dir='./extracted_pdbs1/', output_dir='./extracted_ligands1/', ligand_list=ligand_list)\n",
    "t2=time.time()\n",
    "print(F\"Time to split ligands from 14 extracted pdbs:{t2-t1}s.\")"
   ]
  },
  {
   "cell_type": "code",
   "execution_count": 7,
   "id": "48d269dc-ceea-43fc-8c52-c5d5d7c2baeb",
   "metadata": {},
   "outputs": [
    {
     "name": "stdout",
     "output_type": "stream",
     "text": [
      "2ewa.pdb:Aa\n",
      "4elf.pdb:Aa\n",
      "4gki.pdb:Aa\n",
      "4w9c.pdb:Cc\n",
      "6e7r.pdb:Bb\n",
      "6hrq.pdb:Aa\n",
      "Time to split remaining 6 PDBs based on ligands of type-2 format:2.423581838607788s.\n"
     ]
    }
   ],
   "source": [
    "t1=time.time()\n",
    "pdb_split_chain2(input_dir='./pdbs/', output_dir='./extracted_pdbs2/', ligand_list=ligand_list, ions_list=ions_list)\n",
    "t2=time.time()\n",
    "print(f\"Time to split remaining 6 PDBs based on ligands of type-2 format:{t2-t1}s.\")"
   ]
  },
  {
   "cell_type": "code",
   "execution_count": 8,
   "id": "3bc0eff9-44f7-47d2-b4a3-150dfb0db9a9",
   "metadata": {},
   "outputs": [
    {
     "name": "stdout",
     "output_type": "stream",
     "text": [
      "Time to split ligands from 6 extracted pdbs:1.1540706157684326s.\n"
     ]
    }
   ],
   "source": [
    "t1=time.time()\n",
    "ligand_from_pdb2(input_dir='./extracted_pdbs2/', output_dir='./extracted_ligands2/', ligand_list=ligand_list)\n",
    "t2=time.time()\n",
    "print(F\"Time to split ligands from 6 extracted pdbs:{t2-t1}s.\")"
   ]
  },
  {
   "cell_type": "code",
   "execution_count": null,
   "id": "eead104e-dcc3-4e2c-853a-e5c24e001d89",
   "metadata": {},
   "outputs": [],
   "source": []
  },
  {
   "cell_type": "code",
   "execution_count": null,
   "id": "98635ac9-8c1b-495d-905d-78ba6bb30fb6",
   "metadata": {},
   "outputs": [],
   "source": []
  }
 ],
 "metadata": {
  "kernelspec": {
   "display_name": "Python 3 (ipykernel)",
   "language": "python",
   "name": "python3"
  },
  "language_info": {
   "codemirror_mode": {
    "name": "ipython",
    "version": 3
   },
   "file_extension": ".py",
   "mimetype": "text/x-python",
   "name": "python",
   "nbconvert_exporter": "python",
   "pygments_lexer": "ipython3",
   "version": "3.9.18"
  }
 },
 "nbformat": 4,
 "nbformat_minor": 5
}
